{
  "nbformat": 4,
  "nbformat_minor": 0,
  "metadata": {
    "colab": {
      "name": "RVOS_FMO.ipynb",
      "provenance": [],
      "collapsed_sections": [],
      "toc_visible": true,
      "machine_shape": "hm",
      "include_colab_link": true
    },
    "kernelspec": {
      "name": "python3",
      "display_name": "Python 3"
    },
    "accelerator": "GPU"
  },
  "cells": [
    {
      "cell_type": "markdown",
      "metadata": {
        "id": "view-in-github",
        "colab_type": "text"
      },
      "source": [
        "<a href=\"https://colab.research.google.com/github/ccf23/FMO-Tracking/blob/main/RVOS_FMO.ipynb\" target=\"_parent\"><img src=\"https://colab.research.google.com/assets/colab-badge.svg\" alt=\"Open In Colab\"/></a>"
      ]
    },
    {
      "cell_type": "markdown",
      "metadata": {
        "id": "S3IMmofofcIU"
      },
      "source": [
        "#Prepare Colab to run RVOS"
      ]
    },
    {
      "cell_type": "code",
      "metadata": {
        "id": "9TGIE897GBO9",
        "colab": {
          "base_uri": "https://localhost:8080/"
        },
        "outputId": "609b5765-59ea-4342-8b2d-acbbaee2568c"
      },
      "source": [
        "# Run this cell to mount your Google Drive.\r\n",
        "from google.colab import drive\r\n",
        "drive.mount('/content/drive')"
      ],
      "execution_count": null,
      "outputs": [
        {
          "output_type": "stream",
          "text": [
            "Mounted at /content/drive\n"
          ],
          "name": "stdout"
        }
      ]
    },
    {
      "cell_type": "code",
      "metadata": {
        "colab": {
          "base_uri": "https://localhost:8080/"
        },
        "id": "ZnJjrPG4JLms",
        "outputId": "19973a3d-73fb-4a51-96a4-6ad2e1193c84"
      },
      "source": [
        "!ls \"/content/drive/MyDrive\""
      ],
      "execution_count": 28,
      "outputs": [
        {
          "output_type": "stream",
          "text": [
            " apartment\t\t'personal spending'\n",
            "'Colab Notebooks'\t'Project Plan Ideas.gdoc'\n",
            " cs2770_hw2\t\t rvos\n",
            " data\t\t\t'threat deterrence in public spaces'\n",
            "'ece 1150 term report'\t'vintage cube drafts'\n",
            " personal\n"
          ],
          "name": "stdout"
        }
      ]
    },
    {
      "cell_type": "code",
      "metadata": {
        "colab": {
          "base_uri": "https://localhost:8080/"
        },
        "id": "r9r1z4Q-Vkf8",
        "outputId": "b7b29c5a-01d0-483b-8ab0-5ae5cf581365"
      },
      "source": [
        "%cd /content/drive/MyDrive/rvos/scripts"
      ],
      "execution_count": 29,
      "outputs": [
        {
          "output_type": "stream",
          "text": [
            "/content/drive/MyDrive/rvos/scripts\n"
          ],
          "name": "stdout"
        }
      ]
    },
    {
      "cell_type": "markdown",
      "metadata": {
        "id": "OA-nmWKdYm2J"
      },
      "source": [
        "###Install prerequisites"
      ]
    },
    {
      "cell_type": "code",
      "metadata": {
        "colab": {
          "base_uri": "https://localhost:8080/"
        },
        "id": "LQU1vILfYmGM",
        "outputId": "913c6433-d267-4d02-8206-edbf120e782d"
      },
      "source": [
        "!pip install scipy==1.2\n",
        "!pip install lmdb\n",
        "!pip install Pillow"
      ],
      "execution_count": null,
      "outputs": [
        {
          "output_type": "stream",
          "text": [
            "Requirement already satisfied: scipy==1.2 in /usr/local/lib/python3.7/dist-packages (1.2.0)\n",
            "Requirement already satisfied: numpy>=1.8.2 in /usr/local/lib/python3.7/dist-packages (from scipy==1.2) (1.19.5)\n",
            "Requirement already satisfied: lmdb in /usr/local/lib/python3.7/dist-packages (0.99)\n",
            "Requirement already satisfied: Pillow in /usr/local/lib/python3.7/dist-packages (7.0.0)\n"
          ],
          "name": "stdout"
        }
      ]
    },
    {
      "cell_type": "markdown",
      "metadata": {
        "id": "DqmtcC5NQCfH"
      },
      "source": [
        "# Run RVOS"
      ]
    },
    {
      "cell_type": "markdown",
      "metadata": {
        "id": "GkPrCzoAfJOG"
      },
      "source": [
        "###List possible configurations to run"
      ]
    },
    {
      "cell_type": "code",
      "metadata": {
        "colab": {
          "base_uri": "https://localhost:8080/"
        },
        "id": "f0Px-XQmVpz3",
        "outputId": "7061b846-4e0f-4c9f-b9b7-47a0bdbeca32"
      },
      "source": [
        "!ls \r\n",
        "\r\n",
        "\r\n",
        "# testing for github"
      ],
      "execution_count": 30,
      "outputs": [
        {
          "output_type": "stream",
          "text": [
            "eval_one_shot_davis.sh\t\t      train_one_shot_davis.sh\n",
            "eval_one_shot_youtube.sh\t      train_one_shot_youtube.sh\n",
            "eval_zero_shot_davis.sh\t\t      train_zero_shot_davis_from_youtube.sh\n",
            "eval_zero_shot_youtube.sh\t      train_zero_shot_davis.sh\n",
            "train_one_shot_davis_from_youtube.sh  train_zero_shot_youtube.sh\n"
          ],
          "name": "stdout"
        }
      ]
    },
    {
      "cell_type": "markdown",
      "metadata": {
        "id": "X6XE5QpdfXRv"
      },
      "source": [
        "###Copy parameters of specific configuration to run"
      ]
    },
    {
      "cell_type": "code",
      "metadata": {
        "colab": {
          "base_uri": "https://localhost:8080/"
        },
        "id": "QvykvQKQWG9P",
        "outputId": "b917ad4f-3c74-4d87-a85f-6ae46c79cd05"
      },
      "source": [
        "!cat eval_zero_shot_davis.sh"
      ],
      "execution_count": 31,
      "outputs": [
        {
          "output_type": "stream",
          "text": [
            "python ../src/eval.py -model_name=zero-shot-model-davis -dataset=davis2017 -eval_split=val -batch_size=1 -length_clip=130 -gpu_id=0\r\n"
          ],
          "name": "stdout"
        }
      ]
    },
    {
      "cell_type": "markdown",
      "metadata": {
        "id": "8c4QHyhBfoe0"
      },
      "source": [
        "###Run with parameters from Colab's command line"
      ]
    },
    {
      "cell_type": "code",
      "metadata": {
        "colab": {
          "base_uri": "https://localhost:8080/"
        },
        "id": "aUEJXZw7XLk6",
        "outputId": "3ecbee84-6a54-4bdb-c181-f1863654e10b"
      },
      "source": [
        "!python ../src/eval.py -model_name=zero-shot-model-davis -dataset=davis2017 -eval_split=val -batch_size=1 -length_clip=130 -gpu_id=0\r\n"
      ],
      "execution_count": 32,
      "outputs": [
        {
          "output_type": "stream",
          "text": [
            "[WARNING][15-03-2021 20:10:19] Temporal stability not available\n",
            "Eval logs will be saved to: ../models/zero-shot-model-davis/eval.log\n",
            "Traceback (most recent call last):\n",
            "  File \"../src/eval.py\", line 327, in <module>\n",
            "    E = Evaluate(args)\n",
            "  File \"../src/eval.py\", line 45, in __init__\n",
            "    use_prev_mask = False)\n",
            "  File \"/content/drive/MyDrive/rvos/src/dataloader/dataset_utils.py\", line 25, in get_dataset\n",
            "    use_prev_mask = use_prev_mask)\n",
            "  File \"/content/drive/MyDrive/rvos/src/dataloader/davis2017.py\", line 129, in __init__\n",
            "    for s in self._db_sequences]\n",
            "  File \"/content/drive/MyDrive/rvos/src/dataloader/davis2017.py\", line 129, in <listcomp>\n",
            "    for s in self._db_sequences]\n",
            "  File \"/content/drive/MyDrive/rvos/src/dataloader/base.py\", line 191, in __init__\n",
            "    split,osp.join(cfg.PATH.ANNOTATIONS,name),single_object,regex, lmdb_env=lmdb_env)\n",
            "  File \"/content/drive/MyDrive/rvos/src/dataloader/base.py\", line 158, in __init__\n",
            "    self.n_objects = _get_num_objects(self[0])\n",
            "  File \"/usr/local/lib/python3.7/dist-packages/skimage/io/collection.py\", line 265, in __getitem__\n",
            "    n = self._check_imgnum(n)\n",
            "  File \"/usr/local/lib/python3.7/dist-packages/skimage/io/collection.py\", line 322, in _check_imgnum\n",
            "    % num)\n",
            "IndexError: There are only 0 images in the collection\n"
          ],
          "name": "stdout"
        }
      ]
    },
    {
      "cell_type": "code",
      "metadata": {
        "colab": {
          "base_uri": "https://localhost:8080/"
        },
        "id": "2iQRCsj3blZz",
        "outputId": "e6ace794-fe13-419b-9b55-dc41ae819b20"
      },
      "source": [
        "%cd /content/drive/MyDrive/rvos/models\n",
        "!ls"
      ],
      "execution_count": null,
      "outputs": [
        {
          "output_type": "stream",
          "text": [
            "/content/drive/MyDrive/Colab Notebooks/CS2770_CV/Project/rvos/models\n",
            "eval.log  README.md\n"
          ],
          "name": "stdout"
        }
      ]
    }
  ]
}