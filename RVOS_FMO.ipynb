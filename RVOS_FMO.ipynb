{
  "nbformat": 4,
  "nbformat_minor": 0,
  "metadata": {
    "colab": {
      "name": "RVOS_FMO.ipynb",
      "provenance": [],
      "collapsed_sections": [],
      "toc_visible": true,
      "machine_shape": "hm",
      "include_colab_link": true
    },
    "kernelspec": {
      "name": "python3",
      "display_name": "Python 3"
    },
    "accelerator": "GPU"
  },
  "cells": [
    {
      "cell_type": "markdown",
      "metadata": {
        "id": "view-in-github",
        "colab_type": "text"
      },
      "source": [
        "<a href=\"https://colab.research.google.com/github/ccf23/FMO-Tracking/blob/main/RVOS_FMO.ipynb\" target=\"_parent\"><img src=\"https://colab.research.google.com/assets/colab-badge.svg\" alt=\"Open In Colab\"/></a>"
      ]
    },
    {
      "cell_type": "markdown",
      "metadata": {
        "id": "S3IMmofofcIU"
      },
      "source": [
        "#Prepare Colab to run RVOS"
      ]
    },
    {
      "cell_type": "code",
      "metadata": {
        "id": "9TGIE897GBO9",
        "colab": {
          "base_uri": "https://localhost:8080/"
        },
        "outputId": "609b5765-59ea-4342-8b2d-acbbaee2568c"
      },
      "source": [
        "# Run this cell to mount your Google Drive.\r\n",
        "from google.colab import drive\r\n",
        "drive.mount('/content/drive')"
      ],
      "execution_count": null,
      "outputs": [
        {
          "output_type": "stream",
          "text": [
            "Mounted at /content/drive\n"
          ],
          "name": "stdout"
        }
      ]
    },
    {
      "cell_type": "code",
      "metadata": {
        "colab": {
          "base_uri": "https://localhost:8080/"
        },
        "id": "ZnJjrPG4JLms",
        "outputId": "71b7db71-042a-4d22-e3b8-dab65f61376f"
      },
      "source": [
        "!ls \"/content/drive/MyDrive/Colab Notebooks/CS2770_CV/Project/rvos/src\""
      ],
      "execution_count": null,
      "outputs": [
        {
          "output_type": "stream",
          "text": [
            "args.py\t\t\t   modules\n",
            "dataloader\t\t   plot_curves.py\n",
            "dataset_lmdb_generator.py  prepare_results_submission_davis.py\n",
            "demo.py\t\t\t   prepare_results_submission.py\n",
            "eval_previous_mask.py\t   test.py\n",
            "eval.py\t\t\t   train_previous_inference_mask.py\n",
            "__init__.py\t\t   train_previous_mask.py\n",
            "measures\t\t   train.py\n",
            "misc\t\t\t   utils\n"
          ],
          "name": "stdout"
        }
      ]
    },
    {
      "cell_type": "code",
      "metadata": {
        "colab": {
          "base_uri": "https://localhost:8080/"
        },
        "id": "r9r1z4Q-Vkf8",
        "outputId": "287a76de-cf1b-48a6-ec0a-89e5cecaa967"
      },
      "source": [
        "%cd /content/drive/MyDrive/Colab Notebooks/CS2770_CV/Project/rvos/scripts"
      ],
      "execution_count": null,
      "outputs": [
        {
          "output_type": "stream",
          "text": [
            "/content/drive/MyDrive/Colab Notebooks/CS2770_CV/Project/rvos/scripts\n"
          ],
          "name": "stdout"
        }
      ]
    },
    {
      "cell_type": "markdown",
      "metadata": {
        "id": "OA-nmWKdYm2J"
      },
      "source": [
        "###Install prerequisites"
      ]
    },
    {
      "cell_type": "code",
      "metadata": {
        "colab": {
          "base_uri": "https://localhost:8080/"
        },
        "id": "LQU1vILfYmGM",
        "outputId": "913c6433-d267-4d02-8206-edbf120e782d"
      },
      "source": [
        "!pip install scipy==1.2\n",
        "!pip install lmdb\n",
        "!pip install Pillow"
      ],
      "execution_count": null,
      "outputs": [
        {
          "output_type": "stream",
          "text": [
            "Requirement already satisfied: scipy==1.2 in /usr/local/lib/python3.7/dist-packages (1.2.0)\n",
            "Requirement already satisfied: numpy>=1.8.2 in /usr/local/lib/python3.7/dist-packages (from scipy==1.2) (1.19.5)\n",
            "Requirement already satisfied: lmdb in /usr/local/lib/python3.7/dist-packages (0.99)\n",
            "Requirement already satisfied: Pillow in /usr/local/lib/python3.7/dist-packages (7.0.0)\n"
          ],
          "name": "stdout"
        }
      ]
    },
    {
      "cell_type": "markdown",
      "metadata": {
        "id": "DqmtcC5NQCfH"
      },
      "source": [
        "# Run RVOS"
      ]
    },
    {
      "cell_type": "markdown",
      "metadata": {
        "id": "GkPrCzoAfJOG"
      },
      "source": [
        "###List possible configurations to run"
      ]
    },
    {
      "cell_type": "code",
      "metadata": {
        "colab": {
          "base_uri": "https://localhost:8080/"
        },
        "id": "f0Px-XQmVpz3",
        "outputId": "2e966420-64cf-4860-bdfe-363d798addc1"
      },
      "source": [
        "!ls"
      ],
      "execution_count": null,
      "outputs": [
        {
          "output_type": "stream",
          "text": [
            "eval_one_shot_davis.sh\t\t      train_one_shot_davis.sh\n",
            "eval_one_shot_youtube.sh\t      train_one_shot_youtube.sh\n",
            "eval_zero_shot_davis.sh\t\t      train_zero_shot_davis_from_youtube.sh\n",
            "eval_zero_shot_youtube.sh\t      train_zero_shot_davis.sh\n",
            "train_one_shot_davis_from_youtube.sh  train_zero_shot_youtube.sh\n"
          ],
          "name": "stdout"
        }
      ]
    },
    {
      "cell_type": "markdown",
      "metadata": {
        "id": "X6XE5QpdfXRv"
      },
      "source": [
        "###Copy parameters of specific configuration to run"
      ]
    },
    {
      "cell_type": "code",
      "metadata": {
        "colab": {
          "base_uri": "https://localhost:8080/"
        },
        "id": "QvykvQKQWG9P",
        "outputId": "046b6417-8d88-45bb-8a43-2bb1c3da9f27"
      },
      "source": [
        "!cat eval_zero_shot_davis.sh"
      ],
      "execution_count": null,
      "outputs": [
        {
          "output_type": "stream",
          "text": [
            "python ../src/eval.py -model_name=zero-shot-model-davis -dataset=davis2017 -eval_split=val -batch_size=1 -length_clip=130 -gpu_id=0\r\n"
          ],
          "name": "stdout"
        }
      ]
    },
    {
      "cell_type": "markdown",
      "metadata": {
        "id": "8c4QHyhBfoe0"
      },
      "source": [
        "###Run with parameters from Colab's command line"
      ]
    },
    {
      "cell_type": "code",
      "metadata": {
        "colab": {
          "base_uri": "https://localhost:8080/"
        },
        "id": "aUEJXZw7XLk6",
        "outputId": "199d3e07-cacd-47ba-9718-f14a3b9ae868"
      },
      "source": [
        "!python ../src/eval.py -model_name=zero-shot-model-davis -dataset=davis2017 -eval_split=val -batch_size=1 -length_clip=130 -gpu_id=0"
      ],
      "execution_count": null,
      "outputs": [
        {
          "output_type": "stream",
          "text": [
            "[WARNING][15-03-2021 18:56:57] Temporal stability not available\n",
            "Eval logs will be saved to: ../models/zero-shot-model-davis/eval.log\n",
            "Traceback (most recent call last):\n",
            "  File \"../src/eval.py\", line 327, in <module>\n",
            "    E = Evaluate(args)\n",
            "  File \"../src/eval.py\", line 45, in __init__\n",
            "    use_prev_mask = False)\n",
            "  File \"/content/drive/My Drive/Colab Notebooks/CS2770_CV/Project/rvos/src/dataloader/dataset_utils.py\", line 25, in get_dataset\n",
            "    use_prev_mask = use_prev_mask)\n",
            "  File \"/content/drive/My Drive/Colab Notebooks/CS2770_CV/Project/rvos/src/dataloader/davis2017.py\", line 129, in __init__\n",
            "    for s in self._db_sequences]\n",
            "  File \"/content/drive/My Drive/Colab Notebooks/CS2770_CV/Project/rvos/src/dataloader/davis2017.py\", line 129, in <listcomp>\n",
            "    for s in self._db_sequences]\n",
            "  File \"/content/drive/My Drive/Colab Notebooks/CS2770_CV/Project/rvos/src/dataloader/base.py\", line 191, in __init__\n",
            "    split,osp.join(cfg.PATH.ANNOTATIONS,name),single_object,regex, lmdb_env=lmdb_env)\n",
            "  File \"/content/drive/My Drive/Colab Notebooks/CS2770_CV/Project/rvos/src/dataloader/base.py\", line 158, in __init__\n",
            "    self.n_objects = _get_num_objects(self[0])\n",
            "  File \"/usr/local/lib/python3.7/dist-packages/skimage/io/collection.py\", line 265, in __getitem__\n",
            "    n = self._check_imgnum(n)\n",
            "  File \"/usr/local/lib/python3.7/dist-packages/skimage/io/collection.py\", line 322, in _check_imgnum\n",
            "    % num)\n",
            "IndexError: There are only 0 images in the collection\n"
          ],
          "name": "stdout"
        }
      ]
    },
    {
      "cell_type": "code",
      "metadata": {
        "colab": {
          "base_uri": "https://localhost:8080/"
        },
        "id": "2iQRCsj3blZz",
        "outputId": "e6ace794-fe13-419b-9b55-dc41ae819b20"
      },
      "source": [
        "%cd /content/drive/MyDrive/Colab Notebooks/CS2770_CV/Project/rvos/models\n",
        "!ls"
      ],
      "execution_count": null,
      "outputs": [
        {
          "output_type": "stream",
          "text": [
            "/content/drive/MyDrive/Colab Notebooks/CS2770_CV/Project/rvos/models\n",
            "eval.log  README.md\n"
          ],
          "name": "stdout"
        }
      ]
    }
  ]
}