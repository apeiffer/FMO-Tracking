{
  "nbformat": 4,
  "nbformat_minor": 0,
  "metadata": {
    "colab": {
      "name": "ReorderFramesIntoNewFolder.ipynb",
      "provenance": [],
      "collapsed_sections": [],
      "authorship_tag": "ABX9TyOmr6NiZdPy3I9IptrsWd7/",
      "include_colab_link": true
    },
    "kernelspec": {
      "name": "python3",
      "display_name": "Python 3"
    },
    "language_info": {
      "name": "python"
    }
  },
  "cells": [
    {
      "cell_type": "markdown",
      "metadata": {
        "id": "view-in-github",
        "colab_type": "text"
      },
      "source": [
        "<a href=\"https://colab.research.google.com/github/ccf23/FMO-Tracking/blob/main/ReorderFramesIntoNewFolder.ipynb\" target=\"_parent\"><img src=\"https://colab.research.google.com/assets/colab-badge.svg\" alt=\"Open In Colab\"/></a>"
      ]
    },
    {
      "cell_type": "code",
      "metadata": {
        "colab": {
          "base_uri": "https://localhost:8080/"
        },
        "id": "sT1-QKM1fPXK",
        "outputId": "cfdfeed3-2f5a-4bda-aa26-83798603e6fe"
      },
      "source": [
        "from google.colab import drive\n",
        "drive.mount('/content/drive')\n",
        "\n",
        "#path that contains folder you want to copy\n",
        "# %cd ./MyDrive\n",
        "# !ls\n",
        "# %cd ./FMOv2_resized\n",
        "# os.chdir('/content/drive/My Drive')\n",
        "\n",
        "# %cp -av FMOv2_resized FMOv2_copy\n",
        "import os\n",
        "import shutil"
      ],
      "execution_count": null,
      "outputs": [
        {
          "output_type": "stream",
          "text": [
            "Mounted at /content/drive\n"
          ],
          "name": "stdout"
        }
      ]
    },
    {
      "cell_type": "code",
      "metadata": {
        "id": "FtAuv0V2gjOn"
      },
      "source": [
        "# Importing Image module from PIL package \n",
        "from PIL import Image \n",
        "import PIL"
      ],
      "execution_count": null,
      "outputs": []
    },
    {
      "cell_type": "code",
      "metadata": {
        "id": "XY74CeklZnUg"
      },
      "source": [
        "# %cp -av FMOv2_resized FMOv2_copy"
      ],
      "execution_count": null,
      "outputs": []
    },
    {
      "cell_type": "code",
      "metadata": {
        "id": "ayACBAIfc5S4"
      },
      "source": [
        "#remove k first files in groundtruth (Annotations folder) and k last files in the input images\n",
        "k = 1 # number of frames to skip ahead\n",
        "num_genFrames = 10\n",
        "# rootdir = '/content/drive/My Drive/FMOv2_resized/' # path to original dataset folder\n",
        "rootdir = '/content/drive/My Drive/rvos/synthetic3_resized/' # path to original dataset folder\n",
        "\n",
        "data_types = ['Annotations/', 'JPEGImages/'] # folders to be copied over and changed\n",
        "for data in data_types:\n",
        "  # delete first k ground truth images in each video\n",
        "  if data == 'JPEGImages/':\n",
        "    new_rootdir = rootdir + data\n",
        "    for foldername in os.listdir(new_rootdir):\n",
        "      videodir = new_rootdir + foldername + '/'\n",
        "      img_names = os.listdir(videodir) # do not delete for FMO dataset because varying frames\n",
        "      num_genFrames = len(img_names)\n",
        "      # print(\"JPEG\",img_names, \"images\", foldername)\n",
        "      for filename in os.listdir(videodir):          \n",
        "        #check if file is png or jpg and if it exits\n",
        "        if os.path.isfile(videodir + filename):\n",
        "          # copy file if it is above > k\n",
        "          if int(filename.split('.')[0]) >= k:\n",
        "            # create folder with same name as foldername\n",
        "            # Create target directory & all intermediate directories if dir doesn't already exist\n",
        "            # new_videodir ='/content/drive/My Drive/FMOv2_trajectoryP_k_1/JPEGImages/' + foldername\n",
        "            new_videodir ='/content/drive/My Drive/synthetic_reordered_trajP_k_1/JPEGImages/' + foldername\n",
        " \n",
        "            if os.path.exists(new_videodir) == False:\n",
        "              os.makedirs(new_videodir)\n",
        "            \n",
        "            new_num = int(filename.split('.')[0]) - k\n",
        "            # print(new_num)\n",
        "            if new_num >= 0:\n",
        "              ends_with = filename.split('.')[1] # var is string: 'png'\n",
        "              new_filename = str(new_num).zfill(5) + '.' + ends_with\n",
        "              \n",
        "              # Save image into new directory\n",
        "              source = videodir + new_filename\n",
        "              destination = new_videodir + '/' + new_filename\n",
        "              dest_path = shutil.copyfile(source, destination)\n",
        "\n",
        "\n",
        "  elif data == 'Annotations/':\n",
        "    new_rootdir = rootdir + data\n",
        "    for foldername in os.listdir(new_rootdir):\n",
        "      videodir = new_rootdir + foldername + '/'\n",
        "      img_names = os.listdir(videodir) # do not delete for FMO dataset because varying frames\n",
        "      num_genFrames = len(img_names)\n",
        "      # print(\"Annotations\", img_names, \"images\", foldername)\n",
        "      for filename in os.listdir(videodir):          \n",
        "        #check if file is png or jpg and if it exits\n",
        "        if os.path.isfile(videodir + filename):\n",
        "          # copy file if image name is below < size(datainfolder)-k\n",
        "          if int(filename.split('.')[0]) < len(img_names) - k:\n",
        "            # create folder with same name as foldername\n",
        "            # Create target directory & all intermediate directories if dir doesn't already exist\n",
        "            # new_videodir ='/content/drive/My Drive/FMOv2_trajectoryP_k_1/Annotations/' + foldername\n",
        "            new_videodir ='/content/drive/My Drive/synthetic_reordered_trajP_k_1/Annotations/' + foldername\n",
        "\n",
        "            if os.path.exists(new_videodir) == False:\n",
        "              os.makedirs(new_videodir)\n",
        "\n",
        "            # Save image into new directory\n",
        "            source = videodir + filename\n",
        "            destination = new_videodir + '/' + filename\n",
        "            dest_path = shutil.copyfile(source, destination)"
      ],
      "execution_count": null,
      "outputs": []
    }
  ]
}