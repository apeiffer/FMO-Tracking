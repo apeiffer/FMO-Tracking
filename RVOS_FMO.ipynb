{
  "nbformat": 4,
  "nbformat_minor": 0,
  "metadata": {
    "colab": {
      "name": "RVOS_FMO.ipynb",
      "provenance": [],
      "collapsed_sections": [],
      "toc_visible": true,
      "machine_shape": "hm",
      "include_colab_link": true
    },
    "kernelspec": {
      "name": "python3",
      "display_name": "Python 3"
    },
    "accelerator": "GPU"
  },
  "cells": [
    {
      "cell_type": "markdown",
      "metadata": {
        "id": "view-in-github",
        "colab_type": "text"
      },
      "source": [
        "<a href=\"https://colab.research.google.com/github/ccf23/FMO-Tracking/blob/main/RVOS_FMO.ipynb\" target=\"_parent\"><img src=\"https://colab.research.google.com/assets/colab-badge.svg\" alt=\"Open In Colab\"/></a>"
      ]
    },
    {
      "cell_type": "markdown",
      "metadata": {
        "id": "S3IMmofofcIU"
      },
      "source": [
        "#Prepare Colab to run RVOS"
      ]
    },
    {
      "cell_type": "code",
      "metadata": {
        "id": "9TGIE897GBO9",
        "colab": {
          "base_uri": "https://localhost:8080/"
        },
        "outputId": "e6d952c5-20fc-4ca8-f9ae-485de85076d5"
      },
      "source": [
        "# Run this cell to mount your Google Drive.\r\n",
        "from google.colab import drive\r\n",
        "drive.mount('/content/drive')"
      ],
      "execution_count": 1,
      "outputs": [
        {
          "output_type": "stream",
          "text": [
            "Mounted at /content/drive\n"
          ],
          "name": "stdout"
        }
      ]
    },
    {
      "cell_type": "markdown",
      "metadata": {
        "id": "OA-nmWKdYm2J"
      },
      "source": [
        "###Install prerequisites"
      ]
    },
    {
      "cell_type": "code",
      "metadata": {
        "colab": {
          "base_uri": "https://localhost:8080/"
        },
        "id": "LQU1vILfYmGM",
        "outputId": "dbfe44b4-66e0-4217-bde0-686a6522cd47"
      },
      "source": [
        "!pip install scipy==1.2\n",
        "!pip install lmdb\n",
        "!pip install imgaug==0.2.6\n",
        "!pip install Pillow\n",
        "!pip install munkres"
      ],
      "execution_count": 14,
      "outputs": [
        {
          "output_type": "stream",
          "text": [
            "Requirement already satisfied: scipy==1.2 in /usr/local/lib/python3.7/dist-packages (1.2.0)\n",
            "Requirement already satisfied: numpy>=1.8.2 in /usr/local/lib/python3.7/dist-packages (from scipy==1.2) (1.19.5)\n",
            "Requirement already satisfied: lmdb in /usr/local/lib/python3.7/dist-packages (0.99)\n",
            "Requirement already satisfied: imgaug==0.2.6 in /usr/local/lib/python3.7/dist-packages (0.2.6)\n",
            "Requirement already satisfied: scikit-image>=0.11.0 in /usr/local/lib/python3.7/dist-packages (from imgaug==0.2.6) (0.16.2)\n",
            "Requirement already satisfied: numpy>=1.7.0 in /usr/local/lib/python3.7/dist-packages (from imgaug==0.2.6) (1.19.5)\n",
            "Requirement already satisfied: six in /usr/local/lib/python3.7/dist-packages (from imgaug==0.2.6) (1.15.0)\n",
            "Requirement already satisfied: scipy in /usr/local/lib/python3.7/dist-packages (from imgaug==0.2.6) (1.2.0)\n",
            "Requirement already satisfied: imageio>=2.3.0 in /usr/local/lib/python3.7/dist-packages (from scikit-image>=0.11.0->imgaug==0.2.6) (2.4.1)\n",
            "Requirement already satisfied: matplotlib!=3.0.0,>=2.0.0 in /usr/local/lib/python3.7/dist-packages (from scikit-image>=0.11.0->imgaug==0.2.6) (3.2.2)\n",
            "Requirement already satisfied: networkx>=2.0 in /usr/local/lib/python3.7/dist-packages (from scikit-image>=0.11.0->imgaug==0.2.6) (2.5)\n",
            "Requirement already satisfied: pillow>=4.3.0 in /usr/local/lib/python3.7/dist-packages (from scikit-image>=0.11.0->imgaug==0.2.6) (7.0.0)\n",
            "Requirement already satisfied: PyWavelets>=0.4.0 in /usr/local/lib/python3.7/dist-packages (from scikit-image>=0.11.0->imgaug==0.2.6) (1.1.1)\n",
            "Requirement already satisfied: python-dateutil>=2.1 in /usr/local/lib/python3.7/dist-packages (from matplotlib!=3.0.0,>=2.0.0->scikit-image>=0.11.0->imgaug==0.2.6) (2.8.1)\n",
            "Requirement already satisfied: cycler>=0.10 in /usr/local/lib/python3.7/dist-packages (from matplotlib!=3.0.0,>=2.0.0->scikit-image>=0.11.0->imgaug==0.2.6) (0.10.0)\n",
            "Requirement already satisfied: kiwisolver>=1.0.1 in /usr/local/lib/python3.7/dist-packages (from matplotlib!=3.0.0,>=2.0.0->scikit-image>=0.11.0->imgaug==0.2.6) (1.3.1)\n",
            "Requirement already satisfied: pyparsing!=2.0.4,!=2.1.2,!=2.1.6,>=2.0.1 in /usr/local/lib/python3.7/dist-packages (from matplotlib!=3.0.0,>=2.0.0->scikit-image>=0.11.0->imgaug==0.2.6) (2.4.7)\n",
            "Requirement already satisfied: decorator>=4.3.0 in /usr/local/lib/python3.7/dist-packages (from networkx>=2.0->scikit-image>=0.11.0->imgaug==0.2.6) (4.4.2)\n",
            "Requirement already satisfied: Pillow in /usr/local/lib/python3.7/dist-packages (7.0.0)\n",
            "Collecting munkres\n",
            "  Downloading https://files.pythonhosted.org/packages/90/ab/0301c945a704218bc9435f0e3c88884f6b19ef234d8899fb47ce1ccfd0c9/munkres-1.1.4-py2.py3-none-any.whl\n",
            "Installing collected packages: munkres\n",
            "Successfully installed munkres-1.1.4\n"
          ],
          "name": "stdout"
        }
      ]
    },
    {
      "cell_type": "markdown",
      "metadata": {
        "id": "qxjP7N1Dh_yX"
      },
      "source": [
        "###Run LMDB indexing on dataset"
      ]
    },
    {
      "cell_type": "code",
      "metadata": {
        "colab": {
          "base_uri": "https://localhost:8080/"
        },
        "id": "GPVaiscSiJmg",
        "outputId": "7bd8aa7b-de43-4317-8fb2-d9988ed6def9"
      },
      "source": [
        "%cd /content/drive/MyDrive/FMO-Tracking/rvos/src\r\n",
        "!python dataset_lmdb_generator.py -dataset=davis2017"
      ],
      "execution_count": 19,
      "outputs": [
        {
          "output_type": "stream",
          "text": [
            "/content/drive/MyDrive/FMO-Tracking/rvos/src\n",
            "Generating lmdb for: /content/drive/MyDrive/FMO-Tracking/databases/DAVIS2017/JPEGImages/480p/tuk-tuk\n",
            "Generating lmdb for: /content/drive/MyDrive/FMO-Tracking/databases/DAVIS2017/JPEGImages/480p/swing\n",
            "Generating lmdb for: /content/drive/MyDrive/FMO-Tracking/databases/DAVIS2017/JPEGImages/480p/surf\n",
            "Generating lmdb for: /content/drive/MyDrive/FMO-Tracking/databases/DAVIS2017/JPEGImages/480p/stunt\n",
            "Generating lmdb for: /content/drive/MyDrive/FMO-Tracking/databases/DAVIS2017/JPEGImages/480p/walking\n",
            "Generating lmdb for: /content/drive/MyDrive/FMO-Tracking/databases/DAVIS2017/JPEGImages/480p/tennis\n",
            "Generating lmdb for: /content/drive/MyDrive/FMO-Tracking/databases/DAVIS2017/JPEGImages/480p/upside-down\n",
            "Generating lmdb for: /content/drive/MyDrive/FMO-Tracking/databases/DAVIS2017/JPEGImages/480p/tractor-sand\n",
            "Generating lmdb for: /content/drive/MyDrive/FMO-Tracking/databases/DAVIS2017/JPEGImages/480p/varanus-cage\n",
            "Generating lmdb for: /content/drive/MyDrive/FMO-Tracking/databases/DAVIS2017/JPEGImages/480p/train\n",
            "Generating lmdb for: /content/drive/MyDrive/FMO-Tracking/databases/DAVIS2017/JPEGImages/480p/snowboard\n",
            "Generating lmdb for: /content/drive/MyDrive/FMO-Tracking/databases/DAVIS2017/JPEGImages/480p/scooter-board\n",
            "Generating lmdb for: /content/drive/MyDrive/FMO-Tracking/databases/DAVIS2017/JPEGImages/480p/skate-park\n",
            "Generating lmdb for: /content/drive/MyDrive/FMO-Tracking/databases/DAVIS2017/JPEGImages/480p/sheep\n",
            "Generating lmdb for: /content/drive/MyDrive/FMO-Tracking/databases/DAVIS2017/JPEGImages/480p/soccerball\n",
            "Generating lmdb for: /content/drive/MyDrive/FMO-Tracking/databases/DAVIS2017/JPEGImages/480p/scooter-gray\n",
            "Generating lmdb for: /content/drive/MyDrive/FMO-Tracking/databases/DAVIS2017/JPEGImages/480p/soapbox\n",
            "Generating lmdb for: /content/drive/MyDrive/FMO-Tracking/databases/DAVIS2017/JPEGImages/480p/scooter-black\n",
            "Generating lmdb for: /content/drive/MyDrive/FMO-Tracking/databases/DAVIS2017/JPEGImages/480p/stroller\n",
            "Generating lmdb for: /content/drive/MyDrive/FMO-Tracking/databases/DAVIS2017/JPEGImages/480p/shooting\n",
            "Generating lmdb for: /content/drive/MyDrive/FMO-Tracking/databases/DAVIS2017/JPEGImages/480p/rallye\n",
            "Generating lmdb for: /content/drive/MyDrive/FMO-Tracking/databases/DAVIS2017/JPEGImages/480p/parkour\n",
            "Generating lmdb for: /content/drive/MyDrive/FMO-Tracking/databases/DAVIS2017/JPEGImages/480p/night-race\n",
            "Generating lmdb for: /content/drive/MyDrive/FMO-Tracking/databases/DAVIS2017/JPEGImages/480p/rhino\n",
            "Generating lmdb for: /content/drive/MyDrive/FMO-Tracking/databases/DAVIS2017/JPEGImages/480p/pigs\n",
            "Generating lmdb for: /content/drive/MyDrive/FMO-Tracking/databases/DAVIS2017/JPEGImages/480p/paragliding-launch\n",
            "Generating lmdb for: /content/drive/MyDrive/FMO-Tracking/databases/DAVIS2017/JPEGImages/480p/paragliding\n",
            "Generating lmdb for: /content/drive/MyDrive/FMO-Tracking/databases/DAVIS2017/JPEGImages/480p/rollerblade\n",
            "Generating lmdb for: /content/drive/MyDrive/FMO-Tracking/databases/DAVIS2017/JPEGImages/480p/planes-water\n",
            "Generating lmdb for: /content/drive/MyDrive/FMO-Tracking/databases/DAVIS2017/JPEGImages/480p/schoolgirls\n",
            "Generating lmdb for: /content/drive/MyDrive/FMO-Tracking/databases/DAVIS2017/JPEGImages/480p/lucia\n",
            "Generating lmdb for: /content/drive/MyDrive/FMO-Tracking/databases/DAVIS2017/JPEGImages/480p/motocross-bumps\n",
            "Generating lmdb for: /content/drive/MyDrive/FMO-Tracking/databases/DAVIS2017/JPEGImages/480p/motorbike\n",
            "Generating lmdb for: /content/drive/MyDrive/FMO-Tracking/databases/DAVIS2017/JPEGImages/480p/loading\n",
            "Generating lmdb for: /content/drive/MyDrive/FMO-Tracking/databases/DAVIS2017/JPEGImages/480p/motocross-jump\n",
            "Generating lmdb for: /content/drive/MyDrive/FMO-Tracking/databases/DAVIS2017/JPEGImages/480p/mbike-trick\n",
            "Generating lmdb for: /content/drive/MyDrive/FMO-Tracking/databases/DAVIS2017/JPEGImages/480p/mallard-water\n",
            "Generating lmdb for: /content/drive/MyDrive/FMO-Tracking/databases/DAVIS2017/JPEGImages/480p/miami-surf\n",
            "Generating lmdb for: /content/drive/MyDrive/FMO-Tracking/databases/DAVIS2017/JPEGImages/480p/mallard-fly\n",
            "Generating lmdb for: /content/drive/MyDrive/FMO-Tracking/databases/DAVIS2017/JPEGImages/480p/longboard\n",
            "Generating lmdb for: /content/drive/MyDrive/FMO-Tracking/databases/DAVIS2017/JPEGImages/480p/lab-coat\n",
            "Generating lmdb for: /content/drive/MyDrive/FMO-Tracking/databases/DAVIS2017/JPEGImages/480p/india\n",
            "Generating lmdb for: /content/drive/MyDrive/FMO-Tracking/databases/DAVIS2017/JPEGImages/480p/kite-surf\n",
            "Generating lmdb for: /content/drive/MyDrive/FMO-Tracking/databases/DAVIS2017/JPEGImages/480p/kite-walk\n",
            "Generating lmdb for: /content/drive/MyDrive/FMO-Tracking/databases/DAVIS2017/JPEGImages/480p/kid-football\n",
            "Generating lmdb for: /content/drive/MyDrive/FMO-Tracking/databases/DAVIS2017/JPEGImages/480p/judo\n",
            "Generating lmdb for: /content/drive/MyDrive/FMO-Tracking/databases/DAVIS2017/JPEGImages/480p/libby\n",
            "Generating lmdb for: /content/drive/MyDrive/FMO-Tracking/databases/DAVIS2017/JPEGImages/480p/lindy-hop\n",
            "Generating lmdb for: /content/drive/MyDrive/FMO-Tracking/databases/DAVIS2017/JPEGImages/480p/lady-running\n",
            "Generating lmdb for: /content/drive/MyDrive/FMO-Tracking/databases/DAVIS2017/JPEGImages/480p/koala\n",
            "Generating lmdb for: /content/drive/MyDrive/FMO-Tracking/databases/DAVIS2017/JPEGImages/480p/goat\n",
            "Generating lmdb for: /content/drive/MyDrive/FMO-Tracking/databases/DAVIS2017/JPEGImages/480p/gold-fish\n",
            "Generating lmdb for: /content/drive/MyDrive/FMO-Tracking/databases/DAVIS2017/JPEGImages/480p/flamingo\n",
            "Generating lmdb for: /content/drive/MyDrive/FMO-Tracking/databases/DAVIS2017/JPEGImages/480p/hike\n",
            "Generating lmdb for: /content/drive/MyDrive/FMO-Tracking/databases/DAVIS2017/JPEGImages/480p/drone\n",
            "Generating lmdb for: /content/drive/MyDrive/FMO-Tracking/databases/DAVIS2017/JPEGImages/480p/horsejump-high\n",
            "Generating lmdb for: /content/drive/MyDrive/FMO-Tracking/databases/DAVIS2017/JPEGImages/480p/horsejump-low\n",
            "Generating lmdb for: /content/drive/MyDrive/FMO-Tracking/databases/DAVIS2017/JPEGImages/480p/elephant\n",
            "Generating lmdb for: /content/drive/MyDrive/FMO-Tracking/databases/DAVIS2017/JPEGImages/480p/drift-turn\n",
            "Generating lmdb for: /content/drive/MyDrive/FMO-Tracking/databases/DAVIS2017/JPEGImages/480p/hockey\n",
            "Generating lmdb for: /content/drive/MyDrive/FMO-Tracking/databases/DAVIS2017/JPEGImages/480p/drift-chicane\n",
            "Generating lmdb for: /content/drive/MyDrive/FMO-Tracking/databases/DAVIS2017/JPEGImages/480p/drift-straight\n",
            "Generating lmdb for: /content/drive/MyDrive/FMO-Tracking/databases/DAVIS2017/JPEGImages/480p/dance-twirl\n",
            "Generating lmdb for: /content/drive/MyDrive/FMO-Tracking/databases/DAVIS2017/JPEGImages/480p/dog-agility\n",
            "Generating lmdb for: /content/drive/MyDrive/FMO-Tracking/databases/DAVIS2017/JPEGImages/480p/dancing\n",
            "Generating lmdb for: /content/drive/MyDrive/FMO-Tracking/databases/DAVIS2017/JPEGImages/480p/dog\n",
            "Generating lmdb for: /content/drive/MyDrive/FMO-Tracking/databases/DAVIS2017/JPEGImages/480p/disc-jockey\n",
            "Generating lmdb for: /content/drive/MyDrive/FMO-Tracking/databases/DAVIS2017/JPEGImages/480p/dogs-jump\n",
            "Generating lmdb for: /content/drive/MyDrive/FMO-Tracking/databases/DAVIS2017/JPEGImages/480p/dog-gooses\n",
            "Generating lmdb for: /content/drive/MyDrive/FMO-Tracking/databases/DAVIS2017/JPEGImages/480p/dogs-scale\n",
            "Generating lmdb for: /content/drive/MyDrive/FMO-Tracking/databases/DAVIS2017/JPEGImages/480p/crossing\n",
            "Generating lmdb for: /content/drive/MyDrive/FMO-Tracking/databases/DAVIS2017/JPEGImages/480p/color-run\n",
            "Generating lmdb for: /content/drive/MyDrive/FMO-Tracking/databases/DAVIS2017/JPEGImages/480p/car-turn\n",
            "Generating lmdb for: /content/drive/MyDrive/FMO-Tracking/databases/DAVIS2017/JPEGImages/480p/car-shadow\n",
            "Generating lmdb for: /content/drive/MyDrive/FMO-Tracking/databases/DAVIS2017/JPEGImages/480p/camel\n",
            "Generating lmdb for: /content/drive/MyDrive/FMO-Tracking/databases/DAVIS2017/JPEGImages/480p/cat-girl\n",
            "Generating lmdb for: /content/drive/MyDrive/FMO-Tracking/databases/DAVIS2017/JPEGImages/480p/dance-jump\n",
            "Generating lmdb for: /content/drive/MyDrive/FMO-Tracking/databases/DAVIS2017/JPEGImages/480p/cows\n",
            "Generating lmdb for: /content/drive/MyDrive/FMO-Tracking/databases/DAVIS2017/JPEGImages/480p/car-roundabout\n",
            "Generating lmdb for: /content/drive/MyDrive/FMO-Tracking/databases/DAVIS2017/JPEGImages/480p/classic-car\n",
            "Generating lmdb for: /content/drive/MyDrive/FMO-Tracking/databases/DAVIS2017/JPEGImages/480p/breakdance\n",
            "Generating lmdb for: /content/drive/MyDrive/FMO-Tracking/databases/DAVIS2017/JPEGImages/480p/bike-packing\n",
            "Generating lmdb for: /content/drive/MyDrive/FMO-Tracking/databases/DAVIS2017/JPEGImages/480p/boxing-fisheye\n",
            "Generating lmdb for: /content/drive/MyDrive/FMO-Tracking/databases/DAVIS2017/JPEGImages/480p/blackswan\n",
            "Generating lmdb for: /content/drive/MyDrive/FMO-Tracking/databases/DAVIS2017/JPEGImages/480p/bus\n",
            "Generating lmdb for: /content/drive/MyDrive/FMO-Tracking/databases/DAVIS2017/JPEGImages/480p/boat\n",
            "Generating lmdb for: /content/drive/MyDrive/FMO-Tracking/databases/DAVIS2017/JPEGImages/480p/bmx-trees\n",
            "Generating lmdb for: /content/drive/MyDrive/FMO-Tracking/databases/DAVIS2017/JPEGImages/480p/breakdance-flare\n",
            "Generating lmdb for: /content/drive/MyDrive/FMO-Tracking/databases/DAVIS2017/JPEGImages/480p/bear\n",
            "Generating lmdb for: /content/drive/MyDrive/FMO-Tracking/databases/DAVIS2017/JPEGImages/480p/bmx-bumps\n",
            "Generating lmdb for: /content/drive/MyDrive/FMO-Tracking/databases/DAVIS2017/Annotations/480p/elephant\n",
            "Generating lmdb for: /content/drive/MyDrive/FMO-Tracking/databases/DAVIS2017/Annotations/480p/drone\n",
            "Generating lmdb for: /content/drive/MyDrive/FMO-Tracking/databases/DAVIS2017/Annotations/480p/drift-turn\n",
            "Generating lmdb for: /content/drive/MyDrive/FMO-Tracking/databases/DAVIS2017/Annotations/480p/drift-straight\n",
            "Generating lmdb for: /content/drive/MyDrive/FMO-Tracking/databases/DAVIS2017/Annotations/480p/drift-chicane\n",
            "Generating lmdb for: /content/drive/MyDrive/FMO-Tracking/databases/DAVIS2017/Annotations/480p/dogs-scale\n",
            "Generating lmdb for: /content/drive/MyDrive/FMO-Tracking/databases/DAVIS2017/Annotations/480p/dogs-jump\n",
            "Generating lmdb for: /content/drive/MyDrive/FMO-Tracking/databases/DAVIS2017/Annotations/480p/dog-gooses\n",
            "Generating lmdb for: /content/drive/MyDrive/FMO-Tracking/databases/DAVIS2017/Annotations/480p/dog-agility\n",
            "Generating lmdb for: /content/drive/MyDrive/FMO-Tracking/databases/DAVIS2017/Annotations/480p/disc-jockey\n",
            "Generating lmdb for: /content/drive/MyDrive/FMO-Tracking/databases/DAVIS2017/Annotations/480p/dog\n",
            "Generating lmdb for: /content/drive/MyDrive/FMO-Tracking/databases/DAVIS2017/Annotations/480p/dancing\n",
            "Generating lmdb for: /content/drive/MyDrive/FMO-Tracking/databases/DAVIS2017/Annotations/480p/dance-twirl\n",
            "Generating lmdb for: /content/drive/MyDrive/FMO-Tracking/databases/DAVIS2017/Annotations/480p/dance-jump\n",
            "Generating lmdb for: /content/drive/MyDrive/FMO-Tracking/databases/DAVIS2017/Annotations/480p/crossing\n",
            "Generating lmdb for: /content/drive/MyDrive/FMO-Tracking/databases/DAVIS2017/Annotations/480p/cows\n",
            "Generating lmdb for: /content/drive/MyDrive/FMO-Tracking/databases/DAVIS2017/Annotations/480p/color-run\n",
            "Generating lmdb for: /content/drive/MyDrive/FMO-Tracking/databases/DAVIS2017/Annotations/480p/classic-car\n",
            "Generating lmdb for: /content/drive/MyDrive/FMO-Tracking/databases/DAVIS2017/Annotations/480p/cat-girl\n",
            "Generating lmdb for: /content/drive/MyDrive/FMO-Tracking/databases/DAVIS2017/Annotations/480p/car-turn\n",
            "Generating lmdb for: /content/drive/MyDrive/FMO-Tracking/databases/DAVIS2017/Annotations/480p/car-shadow\n",
            "Generating lmdb for: /content/drive/MyDrive/FMO-Tracking/databases/DAVIS2017/Annotations/480p/car-roundabout\n",
            "Generating lmdb for: /content/drive/MyDrive/FMO-Tracking/databases/DAVIS2017/Annotations/480p/camel\n",
            "Generating lmdb for: /content/drive/MyDrive/FMO-Tracking/databases/DAVIS2017/Annotations/480p/breakdance-flare\n",
            "Generating lmdb for: /content/drive/MyDrive/FMO-Tracking/databases/DAVIS2017/Annotations/480p/bus\n",
            "Generating lmdb for: /content/drive/MyDrive/FMO-Tracking/databases/DAVIS2017/Annotations/480p/breakdance\n",
            "Generating lmdb for: /content/drive/MyDrive/FMO-Tracking/databases/DAVIS2017/Annotations/480p/boxing-fisheye\n",
            "Generating lmdb for: /content/drive/MyDrive/FMO-Tracking/databases/DAVIS2017/Annotations/480p/boat\n",
            "Generating lmdb for: /content/drive/MyDrive/FMO-Tracking/databases/DAVIS2017/Annotations/480p/upside-down\n",
            "Generating lmdb for: /content/drive/MyDrive/FMO-Tracking/databases/DAVIS2017/Annotations/480p/train\n",
            "Generating lmdb for: /content/drive/MyDrive/FMO-Tracking/databases/DAVIS2017/Annotations/480p/tennis\n",
            "Generating lmdb for: /content/drive/MyDrive/FMO-Tracking/databases/DAVIS2017/Annotations/480p/walking\n",
            "Generating lmdb for: /content/drive/MyDrive/FMO-Tracking/databases/DAVIS2017/Annotations/480p/varanus-cage\n",
            "Generating lmdb for: /content/drive/MyDrive/FMO-Tracking/databases/DAVIS2017/Annotations/480p/stunt\n",
            "Generating lmdb for: /content/drive/MyDrive/FMO-Tracking/databases/DAVIS2017/Annotations/480p/tractor-sand\n",
            "Generating lmdb for: /content/drive/MyDrive/FMO-Tracking/databases/DAVIS2017/Annotations/480p/tuk-tuk\n",
            "Generating lmdb for: /content/drive/MyDrive/FMO-Tracking/databases/DAVIS2017/Annotations/480p/surf\n",
            "Generating lmdb for: /content/drive/MyDrive/FMO-Tracking/databases/DAVIS2017/Annotations/480p/swing\n",
            "Generating lmdb for: /content/drive/MyDrive/FMO-Tracking/databases/DAVIS2017/Annotations/480p/shooting\n",
            "Generating lmdb for: /content/drive/MyDrive/FMO-Tracking/databases/DAVIS2017/Annotations/480p/snowboard\n",
            "Generating lmdb for: /content/drive/MyDrive/FMO-Tracking/databases/DAVIS2017/Annotations/480p/scooter-gray\n",
            "Generating lmdb for: /content/drive/MyDrive/FMO-Tracking/databases/DAVIS2017/Annotations/480p/soapbox\n",
            "Generating lmdb for: /content/drive/MyDrive/FMO-Tracking/databases/DAVIS2017/Annotations/480p/sheep\n",
            "Generating lmdb for: /content/drive/MyDrive/FMO-Tracking/databases/DAVIS2017/Annotations/480p/stroller\n",
            "Generating lmdb for: /content/drive/MyDrive/FMO-Tracking/databases/DAVIS2017/Annotations/480p/scooter-board\n",
            "Generating lmdb for: /content/drive/MyDrive/FMO-Tracking/databases/DAVIS2017/Annotations/480p/soccerball\n",
            "Generating lmdb for: /content/drive/MyDrive/FMO-Tracking/databases/DAVIS2017/Annotations/480p/scooter-black\n",
            "Generating lmdb for: /content/drive/MyDrive/FMO-Tracking/databases/DAVIS2017/Annotations/480p/skate-park\n",
            "Generating lmdb for: /content/drive/MyDrive/FMO-Tracking/databases/DAVIS2017/Annotations/480p/paragliding-launch\n",
            "Generating lmdb for: /content/drive/MyDrive/FMO-Tracking/databases/DAVIS2017/Annotations/480p/parkour\n",
            "Generating lmdb for: /content/drive/MyDrive/FMO-Tracking/databases/DAVIS2017/Annotations/480p/rollerblade\n",
            "Generating lmdb for: /content/drive/MyDrive/FMO-Tracking/databases/DAVIS2017/Annotations/480p/night-race\n",
            "Generating lmdb for: /content/drive/MyDrive/FMO-Tracking/databases/DAVIS2017/Annotations/480p/pigs\n",
            "Generating lmdb for: /content/drive/MyDrive/FMO-Tracking/databases/DAVIS2017/Annotations/480p/paragliding\n",
            "Generating lmdb for: /content/drive/MyDrive/FMO-Tracking/databases/DAVIS2017/Annotations/480p/rhino\n",
            "Generating lmdb for: /content/drive/MyDrive/FMO-Tracking/databases/DAVIS2017/Annotations/480p/schoolgirls\n",
            "Generating lmdb for: /content/drive/MyDrive/FMO-Tracking/databases/DAVIS2017/Annotations/480p/rallye\n",
            "Generating lmdb for: /content/drive/MyDrive/FMO-Tracking/databases/DAVIS2017/Annotations/480p/planes-water\n",
            "Generating lmdb for: /content/drive/MyDrive/FMO-Tracking/databases/DAVIS2017/Annotations/480p/longboard\n",
            "Generating lmdb for: /content/drive/MyDrive/FMO-Tracking/databases/DAVIS2017/Annotations/480p/loading\n",
            "Generating lmdb for: /content/drive/MyDrive/FMO-Tracking/databases/DAVIS2017/Annotations/480p/mallard-water\n",
            "Generating lmdb for: /content/drive/MyDrive/FMO-Tracking/databases/DAVIS2017/Annotations/480p/mbike-trick\n",
            "Generating lmdb for: /content/drive/MyDrive/FMO-Tracking/databases/DAVIS2017/Annotations/480p/miami-surf\n",
            "Generating lmdb for: /content/drive/MyDrive/FMO-Tracking/databases/DAVIS2017/Annotations/480p/mallard-fly\n",
            "Generating lmdb for: /content/drive/MyDrive/FMO-Tracking/databases/DAVIS2017/Annotations/480p/motocross-jump\n",
            "Generating lmdb for: /content/drive/MyDrive/FMO-Tracking/databases/DAVIS2017/Annotations/480p/lucia\n",
            "Generating lmdb for: /content/drive/MyDrive/FMO-Tracking/databases/DAVIS2017/Annotations/480p/motorbike\n",
            "Generating lmdb for: /content/drive/MyDrive/FMO-Tracking/databases/DAVIS2017/Annotations/480p/motocross-bumps\n",
            "Generating lmdb for: /content/drive/MyDrive/FMO-Tracking/databases/DAVIS2017/Annotations/480p/libby\n",
            "Generating lmdb for: /content/drive/MyDrive/FMO-Tracking/databases/DAVIS2017/Annotations/480p/kite-walk\n",
            "Generating lmdb for: /content/drive/MyDrive/FMO-Tracking/databases/DAVIS2017/Annotations/480p/judo\n",
            "Generating lmdb for: /content/drive/MyDrive/FMO-Tracking/databases/DAVIS2017/Annotations/480p/kid-football\n",
            "Generating lmdb for: /content/drive/MyDrive/FMO-Tracking/databases/DAVIS2017/Annotations/480p/koala\n",
            "Generating lmdb for: /content/drive/MyDrive/FMO-Tracking/databases/DAVIS2017/Annotations/480p/kite-surf\n",
            "Generating lmdb for: /content/drive/MyDrive/FMO-Tracking/databases/DAVIS2017/Annotations/480p/india\n",
            "Generating lmdb for: /content/drive/MyDrive/FMO-Tracking/databases/DAVIS2017/Annotations/480p/lab-coat\n",
            "Generating lmdb for: /content/drive/MyDrive/FMO-Tracking/databases/DAVIS2017/Annotations/480p/lindy-hop\n",
            "Generating lmdb for: /content/drive/MyDrive/FMO-Tracking/databases/DAVIS2017/Annotations/480p/lady-running\n",
            "Generating lmdb for: /content/drive/MyDrive/FMO-Tracking/databases/DAVIS2017/Annotations/480p/hockey\n",
            "Generating lmdb for: /content/drive/MyDrive/FMO-Tracking/databases/DAVIS2017/Annotations/480p/flamingo\n",
            "Generating lmdb for: /content/drive/MyDrive/FMO-Tracking/databases/DAVIS2017/Annotations/480p/horsejump-high\n",
            "Generating lmdb for: /content/drive/MyDrive/FMO-Tracking/databases/DAVIS2017/Annotations/480p/gold-fish\n",
            "Generating lmdb for: /content/drive/MyDrive/FMO-Tracking/databases/DAVIS2017/Annotations/480p/goat\n",
            "Generating lmdb for: /content/drive/MyDrive/FMO-Tracking/databases/DAVIS2017/Annotations/480p/hike\n",
            "Generating lmdb for: /content/drive/MyDrive/FMO-Tracking/databases/DAVIS2017/Annotations/480p/horsejump-low\n"
          ],
          "name": "stdout"
        }
      ]
    },
    {
      "cell_type": "markdown",
      "metadata": {
        "id": "DqmtcC5NQCfH"
      },
      "source": [
        "# Run RVOS"
      ]
    },
    {
      "cell_type": "code",
      "metadata": {
        "colab": {
          "base_uri": "https://localhost:8080/"
        },
        "id": "r9r1z4Q-Vkf8",
        "outputId": "edb244ec-7b78-48d3-ebb0-63e25af81872"
      },
      "source": [
        "%cd /content/drive/MyDrive/FMO-Tracking/rvos/scripts"
      ],
      "execution_count": 20,
      "outputs": [
        {
          "output_type": "stream",
          "text": [
            "/content/drive/MyDrive/FMO-Tracking/rvos/scripts\n"
          ],
          "name": "stdout"
        }
      ]
    },
    {
      "cell_type": "markdown",
      "metadata": {
        "id": "GkPrCzoAfJOG"
      },
      "source": [
        "###List possible configurations to run"
      ]
    },
    {
      "cell_type": "code",
      "metadata": {
        "colab": {
          "base_uri": "https://localhost:8080/"
        },
        "id": "f0Px-XQmVpz3",
        "outputId": "23b9b7f3-fade-41ab-c7b9-d4bf52f70a3f"
      },
      "source": [
        "!ls"
      ],
      "execution_count": 10,
      "outputs": [
        {
          "output_type": "stream",
          "text": [
            "eval_one_shot_davis.sh\t\t      train_one_shot_davis.sh\n",
            "eval_one_shot_youtube.sh\t      train_one_shot_youtube.sh\n",
            "eval_zero_shot_davis.sh\t\t      train_zero_shot_davis_from_youtube.sh\n",
            "eval_zero_shot_youtube.sh\t      train_zero_shot_davis.sh\n",
            "train_one_shot_davis_from_youtube.sh  train_zero_shot_youtube.sh\n"
          ],
          "name": "stdout"
        }
      ]
    },
    {
      "cell_type": "markdown",
      "metadata": {
        "id": "X6XE5QpdfXRv"
      },
      "source": [
        "###Copy parameters of specific configuration to run\r\n",
        "* Note: As of 3/18, we only have the DAVIS dataset available."
      ]
    },
    {
      "cell_type": "code",
      "metadata": {
        "colab": {
          "base_uri": "https://localhost:8080/"
        },
        "id": "QvykvQKQWG9P",
        "outputId": "8b4e9550-b81d-4cca-ed26-fc6d982c0b2c"
      },
      "source": [
        "# !cat train_zero_shot_davis.sh\r\n",
        "!cat eval_zero_shot_davis.sh"
      ],
      "execution_count": 16,
      "outputs": [
        {
          "output_type": "stream",
          "text": [
            "python ../src/eval.py -model_name=zero-shot-model-davis -dataset=davis2017 -eval_split=val -batch_size=1 -length_clip=130 -gpu_id=0\r\n"
          ],
          "name": "stdout"
        }
      ]
    },
    {
      "cell_type": "markdown",
      "metadata": {
        "id": "8c4QHyhBfoe0"
      },
      "source": [
        "###Run with parameters from Colab's command line"
      ]
    },
    {
      "cell_type": "code",
      "metadata": {
        "colab": {
          "base_uri": "https://localhost:8080/"
        },
        "id": "aUEJXZw7XLk6",
        "outputId": "1401f724-3b27-49af-bb36-7e42051fb34a"
      },
      "source": [
        "!python ../src/train.py -model_name=spatiotemporal_davis_bs_04_lc_05_256p_from_youtube -dataset=davis2017 -batch_size=4 -length_clip=5 -base_model=resnet101 -max_epoch=10 --augment --resize -gpu_id=0"
      ],
      "execution_count": 15,
      "outputs": [
        {
          "output_type": "stream",
          "text": [
            "[WARNING][18-03-2021 17:33:48] Temporal stability not available\n",
            "Downloading: \"https://download.pytorch.org/models/resnet101-5d3b4d8f.pth\" to /root/.cache/torch/hub/checkpoints/resnet101-5d3b4d8f.pth\n",
            "100% 170M/170M [00:06<00:00, 26.5MB/s]\n",
            "Training logs will be saved to: ../models/spatiotemporal_davis_bs_04_lc_05_256p_from_youtube/train.log\n"
          ],
          "name": "stdout"
        }
      ]
    },
    {
      "cell_type": "code",
      "metadata": {
        "colab": {
          "base_uri": "https://localhost:8080/"
        },
        "id": "ibebK_USgDRy",
        "outputId": "2cb41f3b-0f3b-4798-c9b4-3169862659a7"
      },
      "source": [
        "!python ../src/eval.py -model_name=zero-shot-model-davis -dataset=davis2017 -eval_split=val -batch_size=1 -length_clip=130 -gpu_id=0"
      ],
      "execution_count": 21,
      "outputs": [
        {
          "output_type": "stream",
          "text": [
            "[WARNING][18-03-2021 18:12:37] Temporal stability not available\n",
            "Eval logs will be saved to: ../models/zero-shot-model-davis/eval.log\n",
            "Traceback (most recent call last):\n",
            "  File \"../src/eval.py\", line 327, in <module>\n",
            "    E = Evaluate(args)\n",
            "  File \"../src/eval.py\", line 45, in __init__\n",
            "    use_prev_mask = False)\n",
            "  File \"/content/drive/My Drive/FMO-Tracking/rvos/src/dataloader/dataset_utils.py\", line 25, in get_dataset\n",
            "    use_prev_mask = use_prev_mask)\n",
            "  File \"/content/drive/My Drive/FMO-Tracking/rvos/src/dataloader/davis2017.py\", line 124, in __init__\n",
            "    self.sequences = [Sequence(self._phase, s.name, lmdb_env=lmdb_env_seq) for s in self._db_sequences]\n",
            "  File \"/content/drive/My Drive/FMO-Tracking/rvos/src/dataloader/davis2017.py\", line 124, in <listcomp>\n",
            "    self.sequences = [Sequence(self._phase, s.name, lmdb_env=lmdb_env_seq) for s in self._db_sequences]\n",
            "  File \"/content/drive/My Drive/FMO-Tracking/rvos/src/dataloader/base.py\", line 97, in __init__\n",
            "    split,osp.join(cfg.PATH.SEQUENCES,name),regex, lmdb_env=lmdb_env)\n",
            "  File \"/content/drive/My Drive/FMO-Tracking/rvos/src/dataloader/base.py\", line 70, in __init__\n",
            "    super(BaseLoader, self).__init__(_files, load_func=load_func)\n",
            "  File \"/usr/local/lib/python3.7/dist-packages/skimage/io/collection.py\", line 188, in __init__\n",
            "    raise TypeError('Invalid pattern as input.')\n",
            "TypeError: Invalid pattern as input.\n"
          ],
          "name": "stdout"
        }
      ]
    }
  ]
}